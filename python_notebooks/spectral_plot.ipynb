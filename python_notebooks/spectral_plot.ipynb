{
 "cells": [
  {
   "cell_type": "code",
   "execution_count": 10,
   "metadata": {},
   "outputs": [],
   "source": [
    "import pandas as pd\n",
    "import numpy as np\n",
    "import matplotlib.pyplot as plt\n",
    "import seaborn as sns"
   ]
  },
  {
   "cell_type": "code",
   "execution_count": null,
   "metadata": {},
   "outputs": [],
   "source": [
    "import pandas as pd\n",
    "import numpy as np\n",
    "import matplotlib.pyplot as plt\n",
    "chr1_mul = pd.read_csv('chr1.mul.wig', sep='\\t')\n",
    "chr1_mul_arr = chr1_mul[\"fixedStep chrom=chr1 start=1 step=1\"]\n",
    "\n",
    "def spectral_function(arr):\n",
    "    spectral_dict = {'15': 0, '20': 0, '25': 0, '35': 0, '50': 0, '100': 0, '300': 0, '1000': 0, '10000': 0, '97700': 0}\n",
    "    for i in arr:\n",
    "        if i > 0 and i <= 15:\n",
    "            spectral_dict['15'] += 1\n",
    "        if i > 15 and i <= 20:\n",
    "            spectral_dict['20'] += 1\n",
    "        if i > 20 and i <= 25:\n",
    "            spectral_dict['25'] += 1\n",
    "        if i > 25 and i <= 35:\n",
    "            spectral_dict['35'] += 1\n",
    "        if i > 35 and i <= 50:\n",
    "            spectral_dict['50'] += 1\n",
    "        if i > 50 and i <= 100:\n",
    "            spectral_dict['100'] += 1\n",
    "        if i > 100 and i <= 300:\n",
    "            spectral_dict['300'] += 1\n",
    "        if i > 300 and i <= 1000:\n",
    "            spectral_dict['1000'] += 1\n",
    "        if i > 1000 and i <= 10000:\n",
    "            spectral_dict['10000'] += 1\n",
    "        if i > 10000 and i <= 97700:\n",
    "            spectral_dict['97700'] += 1\n",
    "        #Don't forget to calculate values greater than 97700!!!\n",
    "    return spectral_dict\n",
    "\n",
    "chr1_spec_dict = spectral_function(chr1_mul_arr)\n",
    "for_save = pd.DataFrame(chr1_spec_dict.items())\n",
    "for_save.to_csv('spectral_plot.tsv', sep=\"\\t\")\n",
    "spectral_df = pd.DataFrame(chr1_spec_dict.items()).transpose()\n",
    "spectral_df.columns = spectral_df.iloc[0]\n",
    "spectral_df = spectral_df[1:]\n",
    "spectral_df.plot(kind=\"bar\", stacked=True)\n",
    "plt.savefig('spectral_plot.pdf')"
   ]
  },
  {
   "cell_type": "code",
   "execution_count": 78,
   "metadata": {},
   "outputs": [],
   "source": [
    "telomere_mul = pd.read_csv('/Users/andrejnikitin/Desktop/hooman/test.telomere.chr1.mul.wig', sep='\\t')\n",
    "telomere_mul_arr = telomere_mul[\"fixedStep chrom=chr1 start=56 step=1\"]\n",
    "telomere_mur = pd.read_csv('/Users/andrejnikitin/Desktop/hooman/test.telomere.chr1.mur.wig', sep='\\t')\n",
    "telomere_mur_arr = telomere_mur[\"fixedStep chrom=chr1 start=56 step=1\"]\n",
    "main_mul = pd.read_csv('/Users/andrejnikitin/Desktop/hooman/test.main.chr1.mul.wig', sep='\\t')\n",
    "main_mul_arr = main_mul[\"fixedStep chrom=chr1 start=50000056 step=1\"]\n",
    "main_mur = pd.read_csv('/Users/andrejnikitin/Desktop/hooman/test.main.chr1.mur.wig', sep='\\t')\n",
    "main_mur_arr = main_mur[\"fixedStep chrom=chr1 start=50000056 step=1\"]\n",
    "centromere_mul = pd.read_csv('/Users/andrejnikitin/Desktop/hooman/test.centromere.chr1.mul.wig', sep='\\t')\n",
    "centromere_mul_arr = centromere_mul[\"fixedStep chrom=chr1 start=126300056 step=1\"]\n",
    "centromere_mur = pd.read_csv('/Users/andrejnikitin/Desktop/hooman/test.centromere.chr1.mur.wig', sep='\\t')\n",
    "centromere_mur_arr = centromere_mur[\"fixedStep chrom=chr1 start=126300056 step=1\"]"
   ]
  },
  {
   "cell_type": "code",
   "execution_count": 41,
   "metadata": {},
   "outputs": [
    {
     "data": {
      "text/plain": [
       "dict_keys(['15', '20', '25', '35', '50', '100', '300', '1000', '10000', '97700'])"
      ]
     },
     "execution_count": 41,
     "metadata": {},
     "output_type": "execute_result"
    }
   ],
   "source": [
    "spectral_dict = {'15': 0, '20': 0, '25': 0, '35': 0, '50': 0, '100': 0, '300': 0, '1000': 0, '10000': 0, '97700': 0}\n",
    "spectral_dict.keys()"
   ]
  },
  {
   "cell_type": "code",
   "execution_count": 65,
   "metadata": {},
   "outputs": [
    {
     "data": {
      "text/plain": [
       "False"
      ]
     },
     "execution_count": 65,
     "metadata": {},
     "output_type": "execute_result"
    }
   ],
   "source": [
    "np.isnan(mul_arr).any()"
   ]
  },
  {
   "cell_type": "code",
   "execution_count": 27,
   "metadata": {},
   "outputs": [
    {
     "name": "stdout",
     "output_type": "stream",
     "text": [
      "{'15': 16, '20': 187, '25': 117, '35': 274, '50': 458, '100': 1826, '300': 3308, '1000': 3468, '10000': 345, '97700': 0}\n"
     ]
    }
   ],
   "source": [
    "def spectral_function(arr):\n",
    "    spectral_dict = {'15': 0, '20': 0, '25': 0, '35': 0, '50': 0, '100': 0, '300': 0, '1000': 0, '10000': 0, '97700': 0}\n",
    "    for i in range(len(arr)):\n",
    "        if arr[i] > 0 and arr[i] <= 15:\n",
    "            spectral_dict['15'] += 1\n",
    "        if arr[i] > 15 and arr[i] <= 20:\n",
    "            spectral_dict['20'] += 1\n",
    "        if arr[i] > 20 and arr[i] <= 25:\n",
    "            spectral_dict['25'] += 1\n",
    "        if arr[i] > 25 and arr[i] <= 35:\n",
    "            spectral_dict['35'] += 1\n",
    "        if arr[i] > 35 and arr[i] <= 50:\n",
    "            spectral_dict['50'] += 1\n",
    "        if arr[i] > 50 and arr[i] <= 100:\n",
    "            spectral_dict['100'] += 1\n",
    "        if arr[i] > 100 and arr[i] <= 300:\n",
    "            spectral_dict['300'] += 1\n",
    "        if arr[i] > 300 and arr[i] <= 1000:\n",
    "            spectral_dict['1000'] += 1\n",
    "        if arr[i] > 1000 and arr[i] <= 10000:\n",
    "            spectral_dict['10000'] += 1\n",
    "        if arr[i] > 10000 and arr[i] <= 97700:\n",
    "            spectral_dict['97700'] += 1\n",
    "    \n",
    "    return spectral_dict\n",
    "\n",
    "spec_dict = spectral_function(mul_arr)\n",
    "print(spec_dict)"
   ]
  },
  {
   "cell_type": "code",
   "execution_count": 88,
   "metadata": {},
   "outputs": [
    {
     "name": "stdout",
     "output_type": "stream",
     "text": [
      "{'15': 60658, '20': 451466, '25': 51947, '35': 60769, '50': 64931, '100': 93467, '300': 109156, '1000': 93126, '10000': 14480, '97700': 0}\n",
      "{'15': 25045, '20': 681944, '25': 95530, '35': 78488, '50': 63507, '100': 47309, '300': 7645, '1000': 532, '10000': 0, '97700': 0}\n",
      "{'15': 3688, '20': 56855, '25': 36686, '35': 63648, '50': 65168, '100': 111319, '300': 194456, '1000': 202113, '10000': 259943, '97700': 6124}\n"
     ]
    }
   ],
   "source": [
    "def spectral_function(arr):\n",
    "    spectral_dict = {'15': 0, '20': 0, '25': 0, '35': 0, '50': 0, '100': 0, '300': 0, '1000': 0, '10000': 0, '97700': 0}\n",
    "    for i in arr:\n",
    "        if i > 0 and i <= 15:\n",
    "            spectral_dict['15'] += 1\n",
    "        if i > 15 and i <= 20:\n",
    "            spectral_dict['20'] += 1\n",
    "        if i > 20 and i <= 25:\n",
    "            spectral_dict['25'] += 1\n",
    "        if i > 25 and i <= 35:\n",
    "            spectral_dict['35'] += 1\n",
    "        if i > 35 and i <= 50:\n",
    "            spectral_dict['50'] += 1\n",
    "        if i > 50 and i <= 100:\n",
    "            spectral_dict['100'] += 1\n",
    "        if i > 100 and i <= 300:\n",
    "            spectral_dict['300'] += 1\n",
    "        if i > 300 and i <= 1000:\n",
    "            spectral_dict['1000'] += 1\n",
    "        if i > 1000 and i <= 10000:\n",
    "            spectral_dict['10000'] += 1\n",
    "        if i > 10000 and i <= 97700:\n",
    "            spectral_dict['97700'] += 1\n",
    "    return spectral_dict\n",
    "\n",
    "telomere_spec_dict = spectral_function(telomere_mul_arr)\n",
    "main_spec_dict = spectral_function(main_mul_arr)\n",
    "centromere_spec_dict = spectral_function(centromere_mul_arr)\n",
    "\n",
    "print(telomere_spec_dict)\n",
    "print(main_spec_dict)\n",
    "print(centromere_spec_dict)"
   ]
  },
  {
   "cell_type": "code",
   "execution_count": 91,
   "metadata": {},
   "outputs": [
    {
     "data": {
      "text/plain": [
       "<matplotlib.axes._subplots.AxesSubplot at 0x1084dbeb8>"
      ]
     },
     "execution_count": 91,
     "metadata": {},
     "output_type": "execute_result"
    },
    {
     "data": {
      "image/png": "[encoded data removed]",
      "text/plain": [
       "<Figure size 432x288 with 1 Axes>"
      ]
     },
     "metadata": {
      "needs_background": "light"
     },
     "output_type": "display_data"
    }
   ],
   "source": [
    "spec_dict = {'Telomere': telomere_spec_dict, 'Main': main_spec_dict, 'Centromere': centromere_spec_dict}\n",
    "spec_df = pd.DataFrame(spec_dict).transpose()\n",
    "\n",
    "spec_df.plot(kind=\"bar\", stacked=True)\n",
    "#plt.show()"
   ]
  },
  {
   "cell_type": "code",
   "execution_count": 76,
   "metadata": {},
   "outputs": [
    {
     "data": {
      "image/png": "[encoded data removed]",
      "text/plain": [
       "<Figure size 432x288 with 1 Axes>"
      ]
     },
     "metadata": {
      "needs_background": "light"
     },
     "output_type": "display_data"
    }
   ],
   "source": [
    "spectral_df = pd.DataFrame(spec_dict.items()).transpose()\n",
    "spectral_df.columns = spectral_df.iloc[0]\n",
    "spectral_df = spectral_df[1:]\n",
    "#spectral_df\n",
    "spectral_df.plot(kind=\"bar\", stacked=True)\n",
    "plt.show()"
   ]
  },
  {
   "cell_type": "code",
   "execution_count": 55,
   "metadata": {},
   "outputs": [
    {
     "data": {
      "text/plain": [
       "[16, 187, 117, 274, 458, 1826, 3308, 3468, 345, 0]"
      ]
     },
     "execution_count": 55,
     "metadata": {},
     "output_type": "execute_result"
    }
   ],
   "source": [
    "spec_keys = list(spec_dict.keys())\n",
    "spec_values = list(spec_dict.values())\n",
    "spec_values"
   ]
  },
  {
   "cell_type": "code",
   "execution_count": 49,
   "metadata": {},
   "outputs": [
    {
     "data": {
      "text/html": [
       "<div>\n",
       "<style scoped>\n",
       "    .dataframe tbody tr th:only-of-type {\n",
       "        vertical-align: middle;\n",
       "    }\n",
       "\n",
       "    .dataframe tbody tr th {\n",
       "        vertical-align: top;\n",
       "    }\n",
       "\n",
       "    .dataframe thead th {\n",
       "        text-align: right;\n",
       "    }\n",
       "</style>\n",
       "<table border=\"1\" class=\"dataframe\">\n",
       "  <thead>\n",
       "    <tr style=\"text-align: right;\">\n",
       "      <th></th>\n",
       "      <th>Chesterville</th>\n",
       "      <th>Ebony Park</th>\n",
       "      <th>Makhaza</th>\n",
       "    </tr>\n",
       "  </thead>\n",
       "  <tbody>\n",
       "    <tr>\n",
       "      <th>Bachelor</th>\n",
       "      <td>8</td>\n",
       "      <td>1</td>\n",
       "      <td>15</td>\n",
       "    </tr>\n",
       "    <tr>\n",
       "      <th>Diploma</th>\n",
       "      <td>5</td>\n",
       "      <td>3</td>\n",
       "      <td>9</td>\n",
       "    </tr>\n",
       "    <tr>\n",
       "      <th>Fail (Promoted)</th>\n",
       "      <td>5</td>\n",
       "      <td>0</td>\n",
       "      <td>13</td>\n",
       "    </tr>\n",
       "    <tr>\n",
       "      <th>HC</th>\n",
       "      <td>16</td>\n",
       "      <td>1</td>\n",
       "      <td>4</td>\n",
       "    </tr>\n",
       "  </tbody>\n",
       "</table>\n",
       "</div>"
      ],
      "text/plain": [
       "                 Chesterville  Ebony Park  Makhaza\n",
       "Bachelor                    8           1       15\n",
       "Diploma                     5           3        9\n",
       "Fail (Promoted)             5           0       13\n",
       "HC                         16           1        4"
      ]
     },
     "execution_count": 49,
     "metadata": {},
     "output_type": "execute_result"
    }
   ],
   "source": [
    "dic = {'Chesterville': {'Bachelor': 8, 'Diploma': 5, 'Fail (Promoted)': 5, 'HC': 16},\n",
    "     'Ebony Park': {'Bachelor': 1, 'Diploma': 3, 'Fail (Promoted)': 0, 'HC': 1},\n",
    "     'Makhaza': {'Bachelor': 15, 'Diploma': 9, 'Fail (Promoted)': 13, 'HC': 4}}\n",
    "\n",
    "df = pd.DataFrame(dic)\n",
    "df\n",
    "#df.plot(kind=\"bar\", stacked=True)\n",
    "#plt.show()"
   ]
  },
  {
   "cell_type": "code",
   "execution_count": 50,
   "metadata": {},
   "outputs": [
    {
     "data": {
      "image/png": "[encoded data removed]",
      "text/plain": [
       "<Figure size 432x288 with 1 Axes>"
      ]
     },
     "metadata": {
      "needs_background": "light"
     },
     "output_type": "display_data"
    }
   ],
   "source": [
    "dic = {'Chesterville': {'Bachelor': 8, 'Diploma': 5, 'Fail (Promoted)': 5, 'HC': 16},\n",
    "     'Ebony Park': {'Bachelor': 1, 'Diploma': 3, 'Fail (Promoted)': 0, 'HC': 1},\n",
    "     'Makhaza': {'Bachelor': 15, 'Diploma': 9, 'Fail (Promoted)': 13, 'HC': 4}}\n",
    "\n",
    "df = pd.DataFrame(dic)\n",
    "df.plot(kind=\"bar\", stacked=True)\n",
    "plt.show()"
   ]
  }
 ],
 "metadata": {
  "kernelspec": {
   "display_name": "Python 3",
   "language": "python",
   "name": "python3"
  },
  "language_info": {
   "codemirror_mode": {
    "name": "ipython",
    "version": 3
   },
   "file_extension": ".py",
   "mimetype": "text/x-python",
   "name": "python",
   "nbconvert_exporter": "python",
   "pygments_lexer": "ipython3",
   "version": "3.7.3"
  }
 },
 "nbformat": 4,
 "nbformat_minor": 2
}
