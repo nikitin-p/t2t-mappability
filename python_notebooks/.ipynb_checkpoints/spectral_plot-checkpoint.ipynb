{
 "cells": [
  {
   "cell_type": "code",
   "execution_count": 4,
   "metadata": {},
   "outputs": [],
   "source": [
    "import pandas as pd\n",
    "import numpy as np\n",
    "import matplotlib.pyplot as plt\n",
    "import seaborn as sns"
   ]
  },
  {
   "cell_type": "code",
   "execution_count": 16,
   "metadata": {},
   "outputs": [
    {
     "data": {
      "image/png": "[encoded data removed]",
      "text/plain": [
       "<Figure size 432x288 with 1 Axes>"
      ]
     },
     "metadata": {
      "needs_background": "light"
     },
     "output_type": "display_data"
    }
   ],
   "source": [
    "import pandas as pd\n",
    "import numpy as np\n",
    "import matplotlib.pyplot as plt\n",
    "chr1_mul = pd.read_csv('/Users/pavel/Desktop/PROJECTS/hooman/chr1.mul.wig', sep='\\t')\n",
    "chr1_mul_arr = chr1_mul[\"fixedStep chrom=chr1 start=1 step=1\"]\n",
    "\n",
    "def spectral_function(arr):\n",
    "    spectral_dict = {'15': 0, '20': 0, '25': 0, '35': 0, '50': 0, '100': 0, '300': 0, '1000': 0, '10000': 0, '97700': 0}\n",
    "    for i in arr:\n",
    "        if i > 0 and i <= 15:\n",
    "            spectral_dict['15'] += 1\n",
    "        if i > 15 and i <= 20:\n",
    "            spectral_dict['20'] += 1\n",
    "        if i > 20 and i <= 25:\n",
    "            spectral_dict['25'] += 1\n",
    "        if i > 25 and i <= 35:\n",
    "            spectral_dict['35'] += 1\n",
    "        if i > 35 and i <= 50:\n",
    "            spectral_dict['50'] += 1\n",
    "        if i > 50 and i <= 100:\n",
    "            spectral_dict['100'] += 1\n",
    "        if i > 100 and i <= 300:\n",
    "            spectral_dict['300'] += 1\n",
    "        if i > 300 and i <= 1000:\n",
    "            spectral_dict['1000'] += 1\n",
    "        if i > 1000 and i <= 10000:\n",
    "            spectral_dict['10000'] += 1\n",
    "        if i > 10000 and i <= 97700:\n",
    "            spectral_dict['97700'] += 1\n",
    "        #Don't forget to calculate values greater than 97700!!!\n",
    "    return spectral_dict\n",
    "\n",
    "chr1_spec_dict = spectral_function(chr1_mul_arr)\n",
    "for_save = pd.DataFrame(chr1_spec_dict.items())\n",
    "for_save.to_csv('spectral_plot.tsv', sep=\"\\t\")\n",
    "spectral_df = pd.DataFrame(chr1_spec_dict.items()).transpose()\n",
    "spectral_df.columns = spectral_df.iloc[0]\n",
    "spectral_df = spectral_df[1:]\n",
    "spectral_df.plot(kind=\"bar\", stacked=True)\n",
    "plt.savefig('spectral_plot.pdf')"
   ]
  },
  {
   "cell_type": "code",
   "execution_count": 17,
   "metadata": {},
   "outputs": [
    {
     "data": {
      "text/html": [
       "<div>\n",
       "<style scoped>\n",
       "    .dataframe tbody tr th:only-of-type {\n",
       "        vertical-align: middle;\n",
       "    }\n",
       "\n",
       "    .dataframe tbody tr th {\n",
       "        vertical-align: top;\n",
       "    }\n",
       "\n",
       "    .dataframe thead th {\n",
       "        text-align: right;\n",
       "    }\n",
       "</style>\n",
       "<table border=\"1\" class=\"dataframe\">\n",
       "  <thead>\n",
       "    <tr style=\"text-align: right;\">\n",
       "      <th></th>\n",
       "      <th>15</th>\n",
       "      <th>20</th>\n",
       "      <th>25</th>\n",
       "      <th>35</th>\n",
       "      <th>50</th>\n",
       "      <th>100</th>\n",
       "      <th>300</th>\n",
       "      <th>1000</th>\n",
       "      <th>10000</th>\n",
       "      <th>97700</th>\n",
       "    </tr>\n",
       "  </thead>\n",
       "  <tbody>\n",
       "    <tr>\n",
       "      <th>1</th>\n",
       "      <td>6819360</td>\n",
       "      <td>154657479</td>\n",
       "      <td>18591286</td>\n",
       "      <td>14993462</td>\n",
       "      <td>12754060</td>\n",
       "      <td>12358911</td>\n",
       "      <td>8316880</td>\n",
       "      <td>8661823</td>\n",
       "      <td>10837742</td>\n",
       "      <td>396134</td>\n",
       "    </tr>\n",
       "  </tbody>\n",
       "</table>\n",
       "</div>"
      ],
      "text/plain": [
       "0       15         20        25        35        50       100      300  \\\n",
       "1  6819360  154657479  18591286  14993462  12754060  12358911  8316880   \n",
       "\n",
       "0     1000     10000   97700  \n",
       "1  8661823  10837742  396134  "
      ]
     },
     "execution_count": 17,
     "metadata": {},
     "output_type": "execute_result"
    }
   ],
   "source": [
    "spectral_df"
   ]
  },
  {
   "cell_type": "code",
   "execution_count": 7,
   "metadata": {},
   "outputs": [],
   "source": [
    "telomere_mul = pd.read_csv('/Users/pavel/Desktop/PROJECTS/hooman/test.telomere.chr1.mul.wig', sep='\\t')\n",
    "telomere_mul_arr = telomere_mul[\"fixedStep chrom=chr1 start=56 step=1\"]\n",
    "telomere_mur = pd.read_csv('/Users/pavel/Desktop/PROJECTS/hooman/test.telomere.chr1.mur.wig', sep='\\t')\n",
    "telomere_mur_arr = telomere_mur[\"fixedStep chrom=chr1 start=56 step=1\"]\n",
    "main_mul = pd.read_csv('/Users/pavel/Desktop/PROJECTS/hooman/test.main.chr1.mul.wig', sep='\\t')\n",
    "main_mul_arr = main_mul[\"fixedStep chrom=chr1 start=50000056 step=1\"]\n",
    "main_mur = pd.read_csv('/Users/pavel/Desktop/PROJECTS/hooman/test.main.chr1.mur.wig', sep='\\t')\n",
    "main_mur_arr = main_mur[\"fixedStep chrom=chr1 start=50000056 step=1\"]\n",
    "centromere_mul = pd.read_csv('/Users/pavel/Desktop/PROJECTS/hooman/test.centromere.chr1.mul.wig', sep='\\t')\n",
    "centromere_mul_arr = centromere_mul[\"fixedStep chrom=chr1 start=126300056 step=1\"]\n",
    "centromere_mur = pd.read_csv('/Users/pavel/Desktop/PROJECTS/hooman/test.centromere.chr1.mur.wig', sep='\\t')\n",
    "centromere_mur_arr = centromere_mur[\"fixedStep chrom=chr1 start=126300056 step=1\"]"
   ]
  },
  {
   "cell_type": "code",
   "execution_count": 19,
   "metadata": {},
   "outputs": [
    {
     "data": {
      "text/plain": [
       "dict_keys(['15', '20', '25', '35', '50', '100', '300', '1000', '10000', '97700'])"
      ]
     },
     "execution_count": 19,
     "metadata": {},
     "output_type": "execute_result"
    }
   ],
   "source": [
    "spectral_dict = {'15': 0, '20': 0, '25': 0, '35': 0, '50': 0, '100': 0, '300': 0, '1000': 0, '10000': 0, '97700': 0}\n",
    "spectral_dict.keys()"
   ]
  },
  {
   "cell_type": "code",
   "execution_count": 20,
   "metadata": {},
   "outputs": [
    {
     "ename": "NameError",
     "evalue": "name 'mul_arr' is not defined",
     "output_type": "error",
     "traceback": [
      "\u001b[0;31m---------------------------------------------------------------------------\u001b[0m",
      "\u001b[0;31mNameError\u001b[0m                                 Traceback (most recent call last)",
      "Input \u001b[0;32mIn [20]\u001b[0m, in \u001b[0;36m<cell line: 1>\u001b[0;34m()\u001b[0m\n\u001b[0;32m----> 1\u001b[0m np\u001b[38;5;241m.\u001b[39misnan(\u001b[43mmul_arr\u001b[49m)\u001b[38;5;241m.\u001b[39many()\n",
      "\u001b[0;31mNameError\u001b[0m: name 'mul_arr' is not defined"
     ]
    }
   ],
   "source": [
    "np.isnan(mul_arr).any()"
   ]
  },
  {
   "cell_type": "code",
   "execution_count": 10,
   "metadata": {},
   "outputs": [
    {
     "ename": "NameError",
     "evalue": "name 'mul_arr' is not defined",
     "output_type": "error",
     "traceback": [
      "\u001b[0;31m---------------------------------------------------------------------------\u001b[0m",
      "\u001b[0;31mNameError\u001b[0m                                 Traceback (most recent call last)",
      "Input \u001b[0;32mIn [10]\u001b[0m, in \u001b[0;36m<cell line: 27>\u001b[0;34m()\u001b[0m\n\u001b[1;32m     23\u001b[0m             spectral_dict[\u001b[38;5;124m'\u001b[39m\u001b[38;5;124m97700\u001b[39m\u001b[38;5;124m'\u001b[39m] \u001b[38;5;241m+\u001b[39m\u001b[38;5;241m=\u001b[39m \u001b[38;5;241m1\u001b[39m\n\u001b[1;32m     25\u001b[0m     \u001b[38;5;28;01mreturn\u001b[39;00m spectral_dict\n\u001b[0;32m---> 27\u001b[0m spec_dict \u001b[38;5;241m=\u001b[39m spectral_function(\u001b[43mmul_arr\u001b[49m)\n\u001b[1;32m     28\u001b[0m \u001b[38;5;28mprint\u001b[39m(spec_dict)\n",
      "\u001b[0;31mNameError\u001b[0m: name 'mul_arr' is not defined"
     ]
    }
   ],
   "source": [
    "def spectral_function(arr):\n",
    "    spectral_dict = {'15': 0, '20': 0, '25': 0, '35': 0, '50': 0, '100': 0, '300': 0, '1000': 0, '10000': 0, '97700': 0}\n",
    "    for i in range(len(arr)):\n",
    "        if arr[i] > 0 and arr[i] <= 15:\n",
    "            spectral_dict['15'] += 1\n",
    "        if arr[i] > 15 and arr[i] <= 20:\n",
    "            spectral_dict['20'] += 1\n",
    "        if arr[i] > 20 and arr[i] <= 25:\n",
    "            spectral_dict['25'] += 1\n",
    "        if arr[i] > 25 and arr[i] <= 35:\n",
    "            spectral_dict['35'] += 1\n",
    "        if arr[i] > 35 and arr[i] <= 50:\n",
    "            spectral_dict['50'] += 1\n",
    "        if arr[i] > 50 and arr[i] <= 100:\n",
    "            spectral_dict['100'] += 1\n",
    "        if arr[i] > 100 and arr[i] <= 300:\n",
    "            spectral_dict['300'] += 1\n",
    "        if arr[i] > 300 and arr[i] <= 1000:\n",
    "            spectral_dict['1000'] += 1\n",
    "        if arr[i] > 1000 and arr[i] <= 10000:\n",
    "            spectral_dict['10000'] += 1\n",
    "        if arr[i] > 10000 and arr[i] <= 97700:\n",
    "            spectral_dict['97700'] += 1\n",
    "    \n",
    "    return spectral_dict\n",
    "\n",
    "spec_dict = spectral_function(mul_arr)\n",
    "print(spec_dict)"
   ]
  },
  {
   "cell_type": "code",
   "execution_count": 11,
   "metadata": {},
   "outputs": [
    {
     "name": "stdout",
     "output_type": "stream",
     "text": [
      "{'15': 60658, '20': 451466, '25': 51947, '35': 60769, '50': 64931, '100': 93467, '300': 109156, '1000': 93126, '10000': 14480, '97700': 0}\n",
      "{'15': 25045, '20': 681944, '25': 95530, '35': 78488, '50': 63507, '100': 47309, '300': 7645, '1000': 532, '10000': 0, '97700': 0}\n",
      "{'15': 3688, '20': 56855, '25': 36686, '35': 63648, '50': 65168, '100': 111319, '300': 194456, '1000': 202113, '10000': 259943, '97700': 6124}\n"
     ]
    }
   ],
   "source": [
    "def spectral_function(arr):\n",
    "    spectral_dict = {'15': 0, '20': 0, '25': 0, '35': 0, '50': 0, '100': 0, '300': 0, '1000': 0, '10000': 0, '97700': 0}\n",
    "    for i in arr:\n",
    "        if i > 0 and i <= 15:\n",
    "            spectral_dict['15'] += 1\n",
    "        if i > 15 and i <= 20:\n",
    "            spectral_dict['20'] += 1\n",
    "        if i > 20 and i <= 25:\n",
    "            spectral_dict['25'] += 1\n",
    "        if i > 25 and i <= 35:\n",
    "            spectral_dict['35'] += 1\n",
    "        if i > 35 and i <= 50:\n",
    "            spectral_dict['50'] += 1\n",
    "        if i > 50 and i <= 100:\n",
    "            spectral_dict['100'] += 1\n",
    "        if i > 100 and i <= 300:\n",
    "            spectral_dict['300'] += 1\n",
    "        if i > 300 and i <= 1000:\n",
    "            spectral_dict['1000'] += 1\n",
    "        if i > 1000 and i <= 10000:\n",
    "            spectral_dict['10000'] += 1\n",
    "        if i > 10000 and i <= 97700:\n",
    "            spectral_dict['97700'] += 1\n",
    "    return spectral_dict\n",
    "\n",
    "telomere_spec_dict = spectral_function(telomere_mul_arr)\n",
    "main_spec_dict = spectral_function(main_mul_arr)\n",
    "centromere_spec_dict = spectral_function(centromere_mul_arr)\n",
    "\n",
    "print(telomere_spec_dict)\n",
    "print(main_spec_dict)\n",
    "print(centromere_spec_dict)"
   ]
  },
  {
   "cell_type": "code",
   "execution_count": 12,
   "metadata": {},
   "outputs": [
    {
     "data": {
      "text/plain": [
       "<AxesSubplot:>"
      ]
     },
     "execution_count": 12,
     "metadata": {},
     "output_type": "execute_result"
    },
    {
     "data": {
      "image/png": "[encoded data removed]",
      "text/plain": [
       "<Figure size 432x288 with 1 Axes>"
      ]
     },
     "metadata": {
      "needs_background": "light"
     },
     "output_type": "display_data"
    }
   ],
   "source": [
    "spec_dict = {'Telomere': telomere_spec_dict, 'Main': main_spec_dict, 'Centromere': centromere_spec_dict}\n",
    "spec_df = pd.DataFrame(spec_dict).transpose()\n",
    "\n",
    "spec_df.plot(kind=\"bar\", stacked=True)\n",
    "#plt.show()"
   ]
  },
  {
   "cell_type": "code",
   "execution_count": 21,
   "metadata": {},
   "outputs": [
    {
     "ename": "TypeError",
     "evalue": "no numeric data to plot",
     "output_type": "error",
     "traceback": [
      "\u001b[0;31m---------------------------------------------------------------------------\u001b[0m",
      "\u001b[0;31mTypeError\u001b[0m                                 Traceback (most recent call last)",
      "Input \u001b[0;32mIn [21]\u001b[0m, in \u001b[0;36m<cell line: 5>\u001b[0;34m()\u001b[0m\n\u001b[1;32m      3\u001b[0m spectral_df \u001b[38;5;241m=\u001b[39m spectral_df[\u001b[38;5;241m1\u001b[39m:]\n\u001b[1;32m      4\u001b[0m \u001b[38;5;66;03m#spectral_df\u001b[39;00m\n\u001b[0;32m----> 5\u001b[0m \u001b[43mspectral_df\u001b[49m\u001b[38;5;241;43m.\u001b[39;49m\u001b[43mplot\u001b[49m\u001b[43m(\u001b[49m\u001b[43mkind\u001b[49m\u001b[38;5;241;43m=\u001b[39;49m\u001b[38;5;124;43m\"\u001b[39;49m\u001b[38;5;124;43mbar\u001b[39;49m\u001b[38;5;124;43m\"\u001b[39;49m\u001b[43m,\u001b[49m\u001b[43m \u001b[49m\u001b[43mstacked\u001b[49m\u001b[38;5;241;43m=\u001b[39;49m\u001b[38;5;28;43;01mTrue\u001b[39;49;00m\u001b[43m)\u001b[49m\n\u001b[1;32m      6\u001b[0m plt\u001b[38;5;241m.\u001b[39mshow()\n",
      "File \u001b[0;32m~/miniconda3/lib/python3.10/site-packages/pandas/plotting/_core.py:972\u001b[0m, in \u001b[0;36mPlotAccessor.__call__\u001b[0;34m(self, *args, **kwargs)\u001b[0m\n\u001b[1;32m    969\u001b[0m             label_name \u001b[38;5;241m=\u001b[39m label_kw \u001b[38;5;129;01mor\u001b[39;00m data\u001b[38;5;241m.\u001b[39mcolumns\n\u001b[1;32m    970\u001b[0m             data\u001b[38;5;241m.\u001b[39mcolumns \u001b[38;5;241m=\u001b[39m label_name\n\u001b[0;32m--> 972\u001b[0m \u001b[38;5;28;01mreturn\u001b[39;00m \u001b[43mplot_backend\u001b[49m\u001b[38;5;241;43m.\u001b[39;49m\u001b[43mplot\u001b[49m\u001b[43m(\u001b[49m\u001b[43mdata\u001b[49m\u001b[43m,\u001b[49m\u001b[43m \u001b[49m\u001b[43mkind\u001b[49m\u001b[38;5;241;43m=\u001b[39;49m\u001b[43mkind\u001b[49m\u001b[43m,\u001b[49m\u001b[43m \u001b[49m\u001b[38;5;241;43m*\u001b[39;49m\u001b[38;5;241;43m*\u001b[39;49m\u001b[43mkwargs\u001b[49m\u001b[43m)\u001b[49m\n",
      "File \u001b[0;32m~/miniconda3/lib/python3.10/site-packages/pandas/plotting/_matplotlib/__init__.py:71\u001b[0m, in \u001b[0;36mplot\u001b[0;34m(data, kind, **kwargs)\u001b[0m\n\u001b[1;32m     69\u001b[0m         kwargs[\u001b[38;5;124m\"\u001b[39m\u001b[38;5;124max\u001b[39m\u001b[38;5;124m\"\u001b[39m] \u001b[38;5;241m=\u001b[39m \u001b[38;5;28mgetattr\u001b[39m(ax, \u001b[38;5;124m\"\u001b[39m\u001b[38;5;124mleft_ax\u001b[39m\u001b[38;5;124m\"\u001b[39m, ax)\n\u001b[1;32m     70\u001b[0m plot_obj \u001b[38;5;241m=\u001b[39m PLOT_CLASSES[kind](data, \u001b[38;5;241m*\u001b[39m\u001b[38;5;241m*\u001b[39mkwargs)\n\u001b[0;32m---> 71\u001b[0m \u001b[43mplot_obj\u001b[49m\u001b[38;5;241;43m.\u001b[39;49m\u001b[43mgenerate\u001b[49m\u001b[43m(\u001b[49m\u001b[43m)\u001b[49m\n\u001b[1;32m     72\u001b[0m plot_obj\u001b[38;5;241m.\u001b[39mdraw()\n\u001b[1;32m     73\u001b[0m \u001b[38;5;28;01mreturn\u001b[39;00m plot_obj\u001b[38;5;241m.\u001b[39mresult\n",
      "File \u001b[0;32m~/miniconda3/lib/python3.10/site-packages/pandas/plotting/_matplotlib/core.py:327\u001b[0m, in \u001b[0;36mMPLPlot.generate\u001b[0;34m(self)\u001b[0m\n\u001b[1;32m    325\u001b[0m \u001b[38;5;28;01mdef\u001b[39;00m \u001b[38;5;21mgenerate\u001b[39m(\u001b[38;5;28mself\u001b[39m):\n\u001b[1;32m    326\u001b[0m     \u001b[38;5;28mself\u001b[39m\u001b[38;5;241m.\u001b[39m_args_adjust()\n\u001b[0;32m--> 327\u001b[0m     \u001b[38;5;28;43mself\u001b[39;49m\u001b[38;5;241;43m.\u001b[39;49m\u001b[43m_compute_plot_data\u001b[49m\u001b[43m(\u001b[49m\u001b[43m)\u001b[49m\n\u001b[1;32m    328\u001b[0m     \u001b[38;5;28mself\u001b[39m\u001b[38;5;241m.\u001b[39m_setup_subplots()\n\u001b[1;32m    329\u001b[0m     \u001b[38;5;28mself\u001b[39m\u001b[38;5;241m.\u001b[39m_make_plot()\n",
      "File \u001b[0;32m~/miniconda3/lib/python3.10/site-packages/pandas/plotting/_matplotlib/core.py:506\u001b[0m, in \u001b[0;36mMPLPlot._compute_plot_data\u001b[0;34m(self)\u001b[0m\n\u001b[1;32m    504\u001b[0m \u001b[38;5;66;03m# no non-numeric frames or series allowed\u001b[39;00m\n\u001b[1;32m    505\u001b[0m \u001b[38;5;28;01mif\u001b[39;00m is_empty:\n\u001b[0;32m--> 506\u001b[0m     \u001b[38;5;28;01mraise\u001b[39;00m \u001b[38;5;167;01mTypeError\u001b[39;00m(\u001b[38;5;124m\"\u001b[39m\u001b[38;5;124mno numeric data to plot\u001b[39m\u001b[38;5;124m\"\u001b[39m)\n\u001b[1;32m    508\u001b[0m \u001b[38;5;28mself\u001b[39m\u001b[38;5;241m.\u001b[39mdata \u001b[38;5;241m=\u001b[39m numeric_data\u001b[38;5;241m.\u001b[39mapply(\u001b[38;5;28mself\u001b[39m\u001b[38;5;241m.\u001b[39m_convert_to_ndarray)\n",
      "\u001b[0;31mTypeError\u001b[0m: no numeric data to plot"
     ]
    }
   ],
   "source": [
    "spectral_df = pd.DataFrame(spec_dict.items()).transpose()\n",
    "spectral_df.columns = spectral_df.iloc[0]\n",
    "spectral_df = spectral_df[1:]\n",
    "#spectral_df\n",
    "spectral_df.plot(kind=\"bar\", stacked=True)\n",
    "plt.show()"
   ]
  },
  {
   "cell_type": "code",
   "execution_count": 14,
   "metadata": {},
   "outputs": [
    {
     "data": {
      "text/plain": [
       "[{'15': 60658,\n",
       "  '20': 451466,\n",
       "  '25': 51947,\n",
       "  '35': 60769,\n",
       "  '50': 64931,\n",
       "  '100': 93467,\n",
       "  '300': 109156,\n",
       "  '1000': 93126,\n",
       "  '10000': 14480,\n",
       "  '97700': 0},\n",
       " {'15': 25045,\n",
       "  '20': 681944,\n",
       "  '25': 95530,\n",
       "  '35': 78488,\n",
       "  '50': 63507,\n",
       "  '100': 47309,\n",
       "  '300': 7645,\n",
       "  '1000': 532,\n",
       "  '10000': 0,\n",
       "  '97700': 0},\n",
       " {'15': 3688,\n",
       "  '20': 56855,\n",
       "  '25': 36686,\n",
       "  '35': 63648,\n",
       "  '50': 65168,\n",
       "  '100': 111319,\n",
       "  '300': 194456,\n",
       "  '1000': 202113,\n",
       "  '10000': 259943,\n",
       "  '97700': 6124}]"
      ]
     },
     "execution_count": 14,
     "metadata": {},
     "output_type": "execute_result"
    }
   ],
   "source": [
    "spec_keys = list(spec_dict.keys())\n",
    "spec_values = list(spec_dict.values())\n",
    "spec_values"
   ]
  },
  {
   "cell_type": "code",
   "execution_count": 15,
   "metadata": {},
   "outputs": [
    {
     "data": {
      "text/html": [
       "<div>\n",
       "<style scoped>\n",
       "    .dataframe tbody tr th:only-of-type {\n",
       "        vertical-align: middle;\n",
       "    }\n",
       "\n",
       "    .dataframe tbody tr th {\n",
       "        vertical-align: top;\n",
       "    }\n",
       "\n",
       "    .dataframe thead th {\n",
       "        text-align: right;\n",
       "    }\n",
       "</style>\n",
       "<table border=\"1\" class=\"dataframe\">\n",
       "  <thead>\n",
       "    <tr style=\"text-align: right;\">\n",
       "      <th></th>\n",
       "      <th>Chesterville</th>\n",
       "      <th>Ebony Park</th>\n",
       "      <th>Makhaza</th>\n",
       "    </tr>\n",
       "  </thead>\n",
       "  <tbody>\n",
       "    <tr>\n",
       "      <th>Bachelor</th>\n",
       "      <td>8</td>\n",
       "      <td>1</td>\n",
       "      <td>15</td>\n",
       "    </tr>\n",
       "    <tr>\n",
       "      <th>Diploma</th>\n",
       "      <td>5</td>\n",
       "      <td>3</td>\n",
       "      <td>9</td>\n",
       "    </tr>\n",
       "    <tr>\n",
       "      <th>Fail (Promoted)</th>\n",
       "      <td>5</td>\n",
       "      <td>0</td>\n",
       "      <td>13</td>\n",
       "    </tr>\n",
       "    <tr>\n",
       "      <th>HC</th>\n",
       "      <td>16</td>\n",
       "      <td>1</td>\n",
       "      <td>4</td>\n",
       "    </tr>\n",
       "  </tbody>\n",
       "</table>\n",
       "</div>"
      ],
      "text/plain": [
       "                 Chesterville  Ebony Park  Makhaza\n",
       "Bachelor                    8           1       15\n",
       "Diploma                     5           3        9\n",
       "Fail (Promoted)             5           0       13\n",
       "HC                         16           1        4"
      ]
     },
     "execution_count": 15,
     "metadata": {},
     "output_type": "execute_result"
    }
   ],
   "source": [
    "dic = {'Chesterville': {'Bachelor': 8, 'Diploma': 5, 'Fail (Promoted)': 5, 'HC': 16},\n",
    "     'Ebony Park': {'Bachelor': 1, 'Diploma': 3, 'Fail (Promoted)': 0, 'HC': 1},\n",
    "     'Makhaza': {'Bachelor': 15, 'Diploma': 9, 'Fail (Promoted)': 13, 'HC': 4}}\n",
    "\n",
    "df = pd.DataFrame(dic)\n",
    "df\n",
    "#df.plot(kind=\"bar\", stacked=True)\n",
    "#plt.show()"
   ]
  },
  {
   "cell_type": "code",
   "execution_count": 50,
   "metadata": {},
   "outputs": [
    {
     "data": {
      "image/png": "[encoded data removed]",
      "text/plain": [
       "<Figure size 432x288 with 1 Axes>"
      ]
     },
     "metadata": {
      "needs_background": "light"
     },
     "output_type": "display_data"
    }
   ],
   "source": [
    "dic = {'Chesterville': {'Bachelor': 8, 'Diploma': 5, 'Fail (Promoted)': 5, 'HC': 16},\n",
    "     'Ebony Park': {'Bachelor': 1, 'Diploma': 3, 'Fail (Promoted)': 0, 'HC': 1},\n",
    "     'Makhaza': {'Bachelor': 15, 'Diploma': 9, 'Fail (Promoted)': 13, 'HC': 4}}\n",
    "\n",
    "df = pd.DataFrame(dic)\n",
    "df.plot(kind=\"bar\", stacked=True)\n",
    "plt.show()"
   ]
  }
 ],
 "metadata": {
  "kernelspec": {
   "display_name": "Python 3 (ipykernel)",
   "language": "python",
   "name": "python3"
  },
  "language_info": {
   "codemirror_mode": {
    "name": "ipython",
    "version": 3
   },
   "file_extension": ".py",
   "mimetype": "text/x-python",
   "name": "python",
   "nbconvert_exporter": "python",
   "pygments_lexer": "ipython3",
   "version": "3.10.9"
  }
 },
 "nbformat": 4,
 "nbformat_minor": 2
}
