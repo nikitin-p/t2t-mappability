{
 "cells": [
  {
   "cell_type": "code",
   "execution_count": 1,
   "metadata": {},
   "outputs": [],
   "source": [
    "import pandas as pd\n",
    "import numpy as np\n",
    "import matplotlib.pyplot as plt\n",
    "import seaborn as sns\n",
    "from random import seed\n",
    "from random import choice"
   ]
  },
  {
   "cell_type": "code",
   "execution_count": 57,
   "metadata": {},
   "outputs": [],
   "source": [
    "mul = pd.read_csv('test.chr1.mul.wig', sep='\\t')\n",
    "mul_arr = mul[\"fixedStep chrom=chr1 start=1 step=1\"]"
   ]
  },
  {
   "cell_type": "code",
   "execution_count": 58,
   "metadata": {},
   "outputs": [],
   "source": [
    "mur = pd.read_csv('test.chr1.mur.wig', sep='\\t')\n",
    "mur_arr = mur[\"fixedStep chrom=chr1 start=56 step=1\"]"
   ]
  },
  {
   "cell_type": "code",
   "execution_count": 4,
   "metadata": {},
   "outputs": [],
   "source": [
    "def singleMap(read_length:int):\n",
    "    single_logic = []\n",
    "    for i in range(len(mul_arr)):\n",
    "        if mul_arr[i] <= read_length or \\\n",
    "        i + read_length - 1 >= 56 and \\\n",
    "        i + read_length - 1 <= len(mur_arr) - 1 and \\\n",
    "        mur_arr[i + read_length - 1] <= read_length:\n",
    "            single_logic.append(True) # Read maps uniquely\n",
    "        else:\n",
    "            single_logic.append(False) # Read does not map uniquely\n",
    "    return (len(single_logic) - sum(single_logic)) / len(single_logic)\n",
    "\n",
    "single_arr = []\n",
    "for x in range(1,301):\n",
    "    single_arr.append(singleMap(x))\n",
    "#print(single_arr)"
   ]
  },
  {
   "cell_type": "code",
   "execution_count": 96,
   "metadata": {},
   "outputs": [],
   "source": [
    "def pairMap(read_length:int, fragment_length:int, fragment_std:int):\n",
    "    np.random.seed(0)\n",
    "    pair_logic = []\n",
    "    distr = np.random.normal(fragment_length, fragment_std, len(mul_arr))\n",
    "    for i in range(len(mul_arr)):\n",
    "        if mul_arr[i] <= read_length or \\\n",
    "        i + int(distr[i]) - 1 <= len(mur_arr) - 1 and \\\n",
    "        mur_arr[i + int(distr[i]) - 1] <= read_length:\n",
    "            pair_logic.append(True) # Read maps uniquely\n",
    "        else:\n",
    "            pair_logic.append(False) # Read does not map uniquely\n",
    "    return (len(pair_logic) - sum(pair_logic)) / len(pair_logic)\n",
    "\n",
    "pair_arr = []\n",
    "for x in range(1,301):\n",
    "    pair_arr.append(pairMap(x, 700, 50))"
   ]
  },
  {
   "cell_type": "code",
   "execution_count": 97,
   "metadata": {},
   "outputs": [],
   "source": [
    "#Mate Pair\n",
    "mate_pair_arr = []\n",
    "for x in range(1,301):\n",
    "    mate_pair_arr.append(pairMap(x, 2000, 50))"
   ]
  },
  {
   "cell_type": "code",
   "execution_count": 100,
   "metadata": {},
   "outputs": [
    {
     "name": "stdout",
     "output_type": "stream",
     "text": [
      "0.8118811881188119\n",
      "0.7965796579657966\n",
      "0.7044704470447045\n",
      "0.6423642364236424\n",
      "0.5095509550955095\n",
      "0.34393439343934396\n"
     ]
    }
   ],
   "source": [
    "print(singleMap(50))\n",
    "print(pairMap(50, 700, 50))\n",
    "print(singleMap(75))\n",
    "print(pairMap(75, 700, 50))\n",
    "print(singleMap(150))\n",
    "print(pairMap(150, 700, 50))"
   ]
  },
  {
   "cell_type": "code",
   "execution_count": 99,
   "metadata": {},
   "outputs": [
    {
     "data": {
      "text/plain": [
       "[<matplotlib.lines.Line2D at 0x1a1e53dba8>]"
      ]
     },
     "execution_count": 99,
     "metadata": {},
     "output_type": "execute_result"
    },
    {
     "data": {
      "image/png": "[encoded data removed]",
      "text/plain": [
       "<Figure size 432x288 with 1 Axes>"
      ]
     },
     "metadata": {
      "needs_background": "light"
     },
     "output_type": "display_data"
    }
   ],
   "source": [
    "x = list(range(1,301))\n",
    "plt.ylim([0, 1.1])\n",
    "plt.plot(x, single_arr, color=\"blue\")\n",
    "plt.plot(x, pair_arr, color=\"red\")\n",
    "plt.plot(x, mate_pair_arr, color=\"green\")"
   ]
  },
  {
   "cell_type": "code",
   "execution_count": 79,
   "metadata": {},
   "outputs": [
    {
     "data": {
      "text/plain": [
       "[<matplotlib.lines.Line2D at 0x1a26516208>]"
      ]
     },
     "execution_count": 79,
     "metadata": {},
     "output_type": "execute_result"
    },
    {
     "data": {
      "image/png": "[encoded data removed]",
      "text/plain": [
       "<Figure size 432x288 with 1 Axes>"
      ]
     },
     "metadata": {
      "needs_background": "light"
     },
     "output_type": "display_data"
    }
   ],
   "source": [
    "x = list(range(1,5001))\n",
    "plt.ylim([0, 1.1])\n",
    "plt.plot(x, long_single_arr)"
   ]
  },
  {
   "cell_type": "code",
   "execution_count": 9,
   "metadata": {},
   "outputs": [
    {
     "name": "stdout",
     "output_type": "stream",
     "text": [
      "[0, 2, 1, 5]\n"
     ]
    }
   ],
   "source": [
    "a = [1, 0, 0, 1, 0, 1, 0, 0, 0, 0, 0, 1]\n",
    "output = []\n",
    "i = 0\n",
    "space = 0\n",
    "for ii in a:\n",
    "    if a[i] == 1:\n",
    "        output.append(space)\n",
    "        space = 0\n",
    "    elif a[i] == 0:\n",
    "        space += 1\n",
    "    i += 1\n",
    "print(output)"
   ]
  },
  {
   "cell_type": "code",
   "execution_count": 26,
   "metadata": {},
   "outputs": [
    {
     "name": "stdout",
     "output_type": "stream",
     "text": [
      "[[1, 4], [6, 6], [10, 12], [17, 18]]\n",
      "chr1\t1\t4\n",
      "chr1\t6\t6\n",
      "chr1\t10\t12\n",
      "chr1\t17\t18\n"
     ]
    }
   ],
   "source": [
    "a = [True, False, False, False, False, True, False, True, True, True, False, False, False, True, True, True, True, False, False]\n",
    "# a = [False, False]\n",
    "#      0      1      2      3      4     5     6     7     8      9      10    11    12    13    14    15     16\n",
    "#true_res = [[1, 4], [6, 6], [10, 12], [17, 18]]\n",
    "out = []\n",
    "pair = []\n",
    "for i in range(len(a)):\n",
    "    if i == 0:\n",
    "        prev = True\n",
    "    else:\n",
    "        prev = a[i-1]   \n",
    "    if a[i]==False and prev==True:\n",
    "        pair.append(i)\n",
    "    if a[i]==True and prev==False:\n",
    "        pair.append(i-1)\n",
    "        out.append(pair)\n",
    "        pair=[]\n",
    "    if i == len(a)-1 and a[i]==False:\n",
    "        pair.append(i)\n",
    "        out.append(pair)\n",
    "        pair=[]\n",
    "    \n",
    "print(out)\n",
    "for i in out:\n",
    "#     print(i)\n",
    "    print(chr_name + '\\t' + str(i[0]) + '\\t' + str(i[1]))\n",
    "# print(true_res)"
   ]
  },
  {
   "cell_type": "code",
   "execution_count": 51,
   "metadata": {},
   "outputs": [
    {
     "name": "stdout",
     "output_type": "stream",
     "text": [
      "chr1\t59\t137\n",
      "chr1\t176\t740\n",
      "chr1\t885\t932\n",
      "chr1\t1071\t1429\n",
      "chr1\t2718\t3082\n",
      "chr1\t3226\t3231\n",
      "chr1\t3382\t3424\n",
      "chr1\t3575\t3584\n",
      "chr1\t3802\t3850\n",
      "chr1\t4009\t5203\n",
      "chr1\t5415\t5445\n",
      "chr1\t5596\t5837\n",
      "chr1\t5988\t6389\n",
      "chr1\t6540\t7100\n",
      "chr1\t7371\t7387\n",
      "chr1\t7470\t8355\n",
      "chr1\t8584\t9263\n",
      "chr1\t9575\t9585\n",
      "chr1\t9706\t9906\n"
     ]
    }
   ],
   "source": [
    "mul = pd.read_csv('/Users/pavel/Desktop/PROJECTS/hooman/test.aligned.mul.wig', sep='\\t')\n",
    "mul_arr = mul[str(mul.columns[0])]\n",
    "\n",
    "mur = pd.read_csv('/Users/pavel/Desktop/PROJECTS/hooman/test.aligned.mur.wig', sep='\\t')\n",
    "mur_arr = mur[str(mur.columns[0])]\n",
    "\n",
    "chr_name = list(mul.columns.values)[0].split(' ')[1].split('=')[1]\n",
    "spacing = int(list(mul.columns.values)[0].split(' ')[2].split('=')[1])\n",
    "\n",
    "def singleMap(read_length:int, mul_arr, mur_arr):\n",
    "    single_logic = []\n",
    "    for i in range(len(mul_arr)):\n",
    "        if i + read_length - 1 > len(mur_arr) - 1:\n",
    "            break\n",
    "        if mul_arr[i] <= read_length or \\\n",
    "        mur_arr[i + read_length - 1] <= read_length:\n",
    "            single_logic.append(True) # Read maps uniquely\n",
    "        else:\n",
    "            single_logic.append(False) # Read does not map uniquely\n",
    "    return single_logic\n",
    "\n",
    "def array_to_bed(arr):\n",
    "    out = []\n",
    "    pair = []\n",
    "    for i in range(len(arr)):\n",
    "        if i == 0:\n",
    "            prev = True\n",
    "        else:\n",
    "            prev = arr[i-1]   \n",
    "        if arr[i]==False and prev==True:\n",
    "            pair.append(i)\n",
    "        if arr[i]==True and prev==False:\n",
    "            pair.append(i-1)\n",
    "            out.append(pair)\n",
    "            pair=[]\n",
    "        if i == len(arr)-1 and arr[i]==False:\n",
    "            pair.append(i)\n",
    "            out.append(pair)\n",
    "            pair=[]\n",
    "    return out\n",
    "\n",
    "start = 56\n",
    "x = 150\n",
    "single_res = singleMap(x, mul_arr, mur_arr)\n",
    "single_arr = array_to_bed(single_res)\n",
    "# print(single_res)\n",
    "# print(len(single_res))\n",
    "# print(single_arr)\n",
    "\n",
    "for i in single_arr:\n",
    "    print(chr_name + '\\t' + str(i[0] + spacing) + '\\t' + str(i[1] + spacing))"
   ]
  },
  {
   "cell_type": "code",
   "execution_count": 48,
   "metadata": {},
   "outputs": [
    {
     "data": {
      "text/plain": [
       "<enumerate at 0x1197f5580>"
      ]
     },
     "execution_count": 48,
     "metadata": {},
     "output_type": "execute_result"
    }
   ],
   "source": [
    "enumerate(a)"
   ]
  }
 ],
 "metadata": {
  "kernelspec": {
   "display_name": "Python 3 (ipykernel)",
   "language": "python",
   "name": "python3"
  },
  "language_info": {
   "codemirror_mode": {
    "name": "ipython",
    "version": 3
   },
   "file_extension": ".py",
   "mimetype": "text/x-python",
   "name": "python",
   "nbconvert_exporter": "python",
   "pygments_lexer": "ipython3",
   "version": "3.10.9"
  }
 },
 "nbformat": 4,
 "nbformat_minor": 2
}
